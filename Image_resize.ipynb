{
 "cells": [
  {
   "cell_type": "code",
   "execution_count": 2,
   "metadata": {},
   "outputs": [],
   "source": [
    "#image_resize\n",
    "#이미지 resize과정이 너무 오래걸려서 트레이닝 중간에 잡아먹는 시간이 너무 많아짐. gpu 사용량이 왔다갔다하는 문제 해ㅕㄱㄹ 가능\n",
    "import cv2\n",
    "import ast\n",
    "import os\n",
    "import numpy as np"
   ]
  },
  {
   "cell_type": "code",
   "execution_count": 4,
   "metadata": {},
   "outputs": [
    {
     "name": "stdout",
     "output_type": "stream",
     "text": [
      "width :  33.333333333333336 height :  33.333333333333336\n",
      "width :  30.483870967741936 height :  15.225806451612904\n",
      "width :  30.76923076923077 height :  28.153846153846153\n",
      "width :  30.0 height :  35.76923076923077\n",
      "width :  30.0 height :  35.76923076923077\n",
      "width :  32.4 height :  47.1\n"
     ]
    }
   ],
   "source": [
    "img_path = \"./video_with_abstacle/image/\"\n",
    "save_path = \"./video_with_abstacle/resized_image/\"\n",
    "file_path = []\n",
    "file_path2 = []\n",
    "\n",
    "index = 0\n",
    "file_list = os.listdir(img_path)\n",
    "for i in (file_list):\n",
    "    file_path.append(img_path + i)\n",
    "    file_path2.append(save_path + i)\n",
    "for i in (file_path):\n",
    "    img_data = cv2.imread(i)\n",
    "    object_size = 30\n",
    "    height = (np.shape(img_data)[0])\n",
    "    width = (np.shape(img_data)[1])\n",
    "    factor = int(width/object_size)\n",
    "    print(\"width : \", width/factor, \"height : \", height/factor)\n",
    "    img_data = cv2.resize(img_data, (int(width/factor), int(height/factor)))\n",
    "    cv2.imshow(\"i\",img_data)\n",
    "    cv2.waitKey(0)\n",
    "\n",
    "    cv2.imwrite(file_path2[index], img_data)\n",
    "    index = index + 1\n",
    "cv2.destroyAllWindows()"
   ]
  },
  {
   "cell_type": "code",
   "execution_count": 4,
   "metadata": {},
   "outputs": [],
   "source": [
    "annotation_file_directory = \"./MPII_Dataset/annotation/mpii_human_pose_v1_u12_3.json\"\n",
    "f = open(annotation_file_directory)\n",
    "s = f.readlines()\n",
    "\n",
    "file_name = []\n",
    "parts = []\n",
    "_joint_data = []\n",
    "index = 0\n",
    "img_path = \"./MPII_Dataset/test_image/\"\n",
    "save_path = \"./MPII_Dataset/resized_test_image/\"\n",
    "file_path = []\n",
    "file_path2 = []\n",
    "\n",
    "for i in s:\n",
    "\n",
    "    file_name_index = i.find(\"file_name\")\n",
    "    is_train_index = i.find(\"is_train\")\n",
    "    file_name.append(i[file_name_index + 13 :is_train_index - 4])\n",
    "    #print(file_name)\n",
    "\n",
    "    parts_index = i.find(\"parts\")\n",
    "    visibility_index = i.find(\"visibility\")\n",
    "    parts.append(i[parts_index + 8:visibility_index - 3])\n",
    "\n",
    "    joint_data = []\n",
    "    file_index, annotation_index = index, index\n",
    "    if(parts[index] == \"null\"):\n",
    "        joint_data.append(\"null\")\n",
    "        pass\n",
    "    else:\n",
    "        raw_data = ast.literal_eval(parts[annotation_index])\n",
    "        joint_data.append(raw_data)\n",
    "\n",
    "    _joint_data.append(joint_data)\n",
    "    index = index + 1\n",
    "for i in file_name:\n",
    "    file_path.append(img_path + i)\n",
    "    file_path2.append(save_path + i)"
   ]
  },
  {
   "cell_type": "code",
   "execution_count": 5,
   "metadata": {},
   "outputs": [],
   "source": [
    "index = 0\n",
    "for i in file_path:\n",
    "    #print(index)\n",
    "    img_data = cv2.imread(i)\n",
    "    \n",
    "    img_data = cv2.resize(img_data, (356, 356))\n",
    "    cv2.imwrite(file_path2[index], img_data)\n",
    "    index = index + 1"
   ]
  },
  {
   "cell_type": "code",
   "execution_count": 13,
   "metadata": {},
   "outputs": [
    {
     "data": {
      "text/plain": [
       "'./MPII_Dataset/images/002878268.jpg'"
      ]
     },
     "execution_count": 13,
     "metadata": {},
     "output_type": "execute_result"
    }
   ],
   "source": [
    "file_path[885]"
   ]
  },
  {
   "cell_type": "code",
   "execution_count": 106,
   "metadata": {},
   "outputs": [],
   "source": []
  },
  {
   "cell_type": "code",
   "execution_count": 1,
   "metadata": {},
   "outputs": [
    {
     "ename": "NameError",
     "evalue": "name 'os' is not defined",
     "output_type": "error",
     "traceback": [
      "\u001b[1;31m---------------------------------------------------------------------------\u001b[0m",
      "\u001b[1;31mNameError\u001b[0m                                 Traceback (most recent call last)",
      "\u001b[1;32m<ipython-input-1-0eaf56cf73ee>\u001b[0m in \u001b[0;36m<module>\u001b[1;34m()\u001b[0m\n\u001b[0;32m      5\u001b[0m \u001b[1;33m\u001b[0m\u001b[0m\n\u001b[0;32m      6\u001b[0m \u001b[0mindex\u001b[0m \u001b[1;33m=\u001b[0m \u001b[1;36m0\u001b[0m\u001b[1;33m\u001b[0m\u001b[0m\n\u001b[1;32m----> 7\u001b[1;33m \u001b[0mfile_list\u001b[0m \u001b[1;33m=\u001b[0m \u001b[0mos\u001b[0m\u001b[1;33m.\u001b[0m\u001b[0mlistdir\u001b[0m\u001b[1;33m(\u001b[0m\u001b[0mimg_path\u001b[0m\u001b[1;33m)\u001b[0m\u001b[1;33m\u001b[0m\u001b[0m\n\u001b[0m\u001b[0;32m      8\u001b[0m \u001b[1;32mfor\u001b[0m \u001b[0mi\u001b[0m \u001b[1;32min\u001b[0m \u001b[1;33m(\u001b[0m\u001b[0mfile_list\u001b[0m\u001b[1;33m)\u001b[0m\u001b[1;33m:\u001b[0m\u001b[1;33m\u001b[0m\u001b[0m\n\u001b[0;32m      9\u001b[0m     \u001b[0mfile_path\u001b[0m\u001b[1;33m.\u001b[0m\u001b[0mappend\u001b[0m\u001b[1;33m(\u001b[0m\u001b[0mimg_path\u001b[0m \u001b[1;33m+\u001b[0m \u001b[0mi\u001b[0m\u001b[1;33m)\u001b[0m\u001b[1;33m\u001b[0m\u001b[0m\n",
      "\u001b[1;31mNameError\u001b[0m: name 'os' is not defined"
     ]
    }
   ],
   "source": [
    "img_path = \"./video_with_abstacle/image/\"\n",
    "save_path = \"./video_with_abstacle/resized_image/\"\n",
    "file_path = []\n",
    "file_path2 = []\n",
    "\n",
    "index = 0\n",
    "file_list = os.listdir(img_path)\n",
    "for i in (file_list):\n",
    "    file_path.append(img_path + i)\n",
    "    file_path.append(save_path + i)\n",
    "for i in (file_path):\n",
    "    img_data = cv2.imread(i)\n",
    "    object_size = 30\n",
    "    height = (np.shape(img_data)[0])\n",
    "    width = (np.shape(img_data)[1])\n",
    "    factor = int(width/object_size)\n",
    "    print(\"width : \", width/factor, \"height : \", height/factor)\n",
    "    img_data = cv2.resize(img_data, (int(width/factor), int(height/factor)))\n",
    "    cv2.imshow(\"i\",img_data)\n",
    "    cv2.waitKey(0)\n",
    "\n",
    "    #cv2.imwrite(file_path2[index], img_data)\n",
    "    #index = index + 1\n",
    "cv2.destroyAllWindows()"
   ]
  },
  {
   "cell_type": "code",
   "execution_count": null,
   "metadata": {},
   "outputs": [],
   "source": []
  },
  {
   "cell_type": "code",
   "execution_count": null,
   "metadata": {},
   "outputs": [],
   "source": []
  }
 ],
 "metadata": {
  "kernelspec": {
   "display_name": "Python 3",
   "language": "python",
   "name": "python3"
  },
  "language_info": {
   "codemirror_mode": {
    "name": "ipython",
    "version": 3
   },
   "file_extension": ".py",
   "mimetype": "text/x-python",
   "name": "python",
   "nbconvert_exporter": "python",
   "pygments_lexer": "ipython3",
   "version": "3.6.4"
  }
 },
 "nbformat": 4,
 "nbformat_minor": 2
}
