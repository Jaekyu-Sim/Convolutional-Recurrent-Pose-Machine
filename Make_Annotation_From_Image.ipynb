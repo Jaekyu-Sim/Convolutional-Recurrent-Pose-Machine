{
 "cells": [
  {
   "cell_type": "code",
   "execution_count": 1,
   "metadata": {},
   "outputs": [],
   "source": [
    "#Joint Annotation 만드는 ipynb file"
   ]
  },
  {
   "cell_type": "code",
   "execution_count": 2,
   "metadata": {},
   "outputs": [
    {
     "name": "stderr",
     "output_type": "stream",
     "text": [
      "C:\\Users\\JAEKYU\\Anaconda3\\lib\\site-packages\\h5py\\__init__.py:36: FutureWarning: Conversion of the second argument of issubdtype from `float` to `np.floating` is deprecated. In future, it will be treated as `np.float64 == np.dtype(float).type`.\n",
      "  from ._conv import register_converters as _register_converters\n"
     ]
    },
    {
     "name": "stdout",
     "output_type": "stream",
     "text": [
      "Open Pose Class Loading Finish\n"
     ]
    }
   ],
   "source": [
    "import cv2\n",
    "import tensorflow as tf\n",
    "import os\n",
    "import numpy as np\n",
    "import network as net\n",
    "import json\n",
    "from Training import openpose\n",
    "import matplotlib.pyplot as plt\n",
    "from scipy.ndimage.filters import maximum_filter\n",
    "import math\n",
    "from collections import Counter, defaultdict\n",
    "import itertools\n",
    "import matplotlib as mpl\n",
    "import time\n",
    "import ast\n",
    "from scipy.ndimage.filters import gaussian_filter\n",
    "import matplotlib"
   ]
  },
  {
   "cell_type": "code",
   "execution_count": 3,
   "metadata": {},
   "outputs": [],
   "source": [
    "class NumpyEncoder(json.JSONEncoder):\n",
    "    \"\"\" Special json encoder for numpy types \"\"\"\n",
    "    def default(self, obj):\n",
    "        if isinstance(obj, (np.int_, np.intc, np.intp, np.int8,\n",
    "            np.int16, np.int32, np.int64, np.uint8,\n",
    "            np.uint16, np.uint32, np.uint64)):\n",
    "            return int(obj)\n",
    "        elif isinstance(obj, (np.float_, np.float16, np.float32, \n",
    "            np.float64)):\n",
    "            return float(obj)\n",
    "        elif isinstance(obj,(np.ndarray,)): #### This is the fix\n",
    "            return obj.tolist()\n",
    "        return json.JSONEncoder.default(self, obj)"
   ]
  },
  {
   "cell_type": "code",
   "execution_count": 4,
   "metadata": {},
   "outputs": [],
   "source": [
    "def make_test_batch(img_path, batch_size):\n",
    "    num_of_data = len(img_path)\n",
    "    index = np.arange(0, num_of_data)\n",
    "    np.random.shuffle(index)\n",
    "    index = index[:batch_size]\n",
    "    \n",
    "    shuffled_img_data = [img_path[i] for i in index]\n",
    "    \n",
    "    return np.asarray(shuffled_img_data)\n",
    "\n",
    "def path_to_image(img_path, batch_size):\n",
    "    #buffer 선언\n",
    "    image_data = np.zeros((batch_size, 356, 356, 3), np.uint8)\n",
    "    \n",
    "    index = 0\n",
    "    for img in (img_path):\n",
    "        image_data[index] = cv2.imread(img)\n",
    "        index = index + 1;\n",
    "\n",
    "        \n",
    "        \n",
    "    return image_data\n",
    "\n",
    "def load_test_data(save_path):\n",
    "    img_path = save_path#\"./MPII_Dataset/resized_test_image/\"\n",
    "    file_path = []\n",
    "    file_list = os.listdir(img_path)\n",
    "    for i in (file_list):\n",
    "        file_path.append(img_path + i)\n",
    "    return file_path\n",
    "\n",
    "def padRightDownCorner(img, stride, padValue):\n",
    "    h = img.shape[0]\n",
    "    w = img.shape[1]\n",
    "\n",
    "    pad = 4 * [None]\n",
    "    pad[0] = 0 # up\n",
    "    pad[1] = 0 # left\n",
    "    pad[2] = 0 if (h%stride==0) else stride - (h % stride) # down\n",
    "    pad[3] = 0 if (w%stride==0) else stride - (w % stride) # right\n",
    "\n",
    "    img_padded = img\n",
    "    pad_up = np.tile(img_padded[0:1,:,:]*0 + padValue, (pad[0], 1, 1))\n",
    "    img_padded = np.concatenate((pad_up, img_padded), axis=0)\n",
    "    pad_left = np.tile(img_padded[:,0:1,:]*0 + padValue, (1, pad[1], 1))\n",
    "    img_padded = np.concatenate((pad_left, img_padded), axis=1)\n",
    "    pad_down = np.tile(img_padded[-2:-1,:,:]*0 + padValue, (pad[2], 1, 1))\n",
    "    img_padded = np.concatenate((img_padded, pad_down), axis=0)\n",
    "    pad_right = np.tile(img_padded[:,-2:-1,:]*0 + padValue, (1, pad[3], 1))\n",
    "    img_padded = np.concatenate((img_padded, pad_right), axis=1)\n",
    "\n",
    "    return img_padded, pad"
   ]
  },
  {
   "cell_type": "code",
   "execution_count": 5,
   "metadata": {},
   "outputs": [],
   "source": [
    "#f = open(\"./Video_annotation/1.txt\", 'w')\n",
    "\n",
    "def demo_view(oriImg, input_heatmap, input_paf):\n",
    "    nms_joint = []\n",
    "    #input_heatmap = np.squeeze(input_heatmap)\n",
    "    heatmap_avg = np.zeros((oriImg.shape[0], oriImg.shape[1], 17))\n",
    "    paf_avg = np.zeros((oriImg.shape[0], oriImg.shape[1], 34))\n",
    "\n",
    "    \n",
    "    heatmap_avg = heatmap_avg + input_heatmap\n",
    "    paf_avg = paf_avg + input_paf\n",
    "    all_peaks = []\n",
    "    peak_counter = 0\n",
    "\n",
    "    for part in range(17-1):\n",
    "        map_ori = heatmap_avg[:,:,part]\n",
    "        map = gaussian_filter(map_ori, sigma=3)\n",
    "\n",
    "        map_left = np.zeros(map.shape)\n",
    "        #print(np.shape(map_left))\n",
    "        map_left[1:,:] = map[:-1,:]\n",
    "        map_right = np.zeros(map.shape)\n",
    "        map_right[:-1,:] = map[1:,:]\n",
    "        map_up = np.zeros(map.shape)\n",
    "        map_up[:,1:] = map[:,:-1]\n",
    "        map_down = np.zeros(map.shape)\n",
    "        map_down[:,:-1] = map[:,1:]\n",
    "\n",
    "        peaks_binary = np.logical_and.reduce((map>=map_left, map>=map_right, map>=map_up,\\\n",
    "                                              map>=map_down, map > 0.1))\n",
    "        peaks = list(zip(np.nonzero(peaks_binary)[1], np.nonzero(peaks_binary)[0])) # note reverse\n",
    "        peaks_with_score = [x + (map_ori[x[1],x[0]],) for x in peaks]\n",
    "        id = range(peak_counter, peak_counter + len(peaks))\n",
    "        peaks_with_score_and_id = [peaks_with_score[i] + (id[i],) for i in range(len(id))]\n",
    "\n",
    "        all_peaks.append(peaks_with_score_and_id)\n",
    "        peak_counter += len(peaks)\n",
    "\n",
    "    #print(all_peaks)########################################################################################\n",
    "    nms_joint.append(all_peaks)\n",
    "    #all_peaks_file = \",\".join(str(x) for x in all_peaks)\n",
    "    #f.write(all_peaks_file)\n",
    "    #f.write(\"\\n\")\n",
    "    \n",
    "\n",
    "    return nms_joint"
   ]
  },
  {
   "cell_type": "code",
   "execution_count": 6,
   "metadata": {
    "scrolled": true
   },
   "outputs": [
    {
     "name": "stdout",
     "output_type": "stream",
     "text": [
      "test data load start\n",
      "test data load finish\n",
      "open pose init complete\n",
      "INFO:tensorflow:Restoring parameters from C:/Users/JAEKYU/Documents/Jupyter Notebook/Open_Pose/Weight/Weight.ckpt\n",
      "{'0': (181, 302), '1': (165, 246), '2': (190, 198), '3': (214, 190), '4': (214, 246), '5': (214, 295), '6': (206, 190), '7': (175, 149), '8': (173, 133), '9': (173, 92), '10': (125, 165), '11': (146, 173), '12': (157, 149), '13': (190, 133), '14': (214, 149), '15': (222, 165)}\n",
      "------------------------------------\n",
      "{'0': (173, 303), '1': (165, 246), '2': (190, 205), '3': (206, 190), '4': (214, 246), '5': (214, 295), '6': (198, 205), '7': (173, 149), '8': (173, 141), '9': (173, 93), '10': (125, 144), '11': (141, 165), '12': (157, 149), '13': (198, 149), '14': (214, 173), '15': (222, 190)}\n",
      "------------------------------------\n",
      "{'0': (149, 303), '1': (149, 246), '2': (149, 182), '3': (173, 187), '4': (173, 254), '5': (165, 305), '6': (165, 182), '7': (165, 117), '8': (165, 120), '9': (165, 76), '10': (109, 173), '11': (133, 141), '12': (149, 117), '13': (182, 117), '15': (193, 109)}\n",
      "------------------------------------\n",
      "{'0': (149, 303), '1': (149, 254), '2': (149, 189), '3': (173, 198), '4': (165, 246), '5': (165, 303), '6': (157, 184), '7': (165, 117), '8': (165, 120), '9': (165, 76), '10': (101, 157), '11': (125, 149), '12': (149, 116), '13': (174, 109), '14': (205, 125), '15': (200, 123)}\n",
      "------------------------------------\n",
      "{'0': (149, 303), '1': (149, 246), '2': (149, 182), '3': (173, 174), '4': (165, 254), '5': (165, 311), '6': (157, 182), '7': (165, 117), '8': (158, 117), '9': (157, 76), '10': (93, 157), '11': (125, 149), '12': (149, 117), '13': (182, 117), '14': (206, 141), '15': (206, 141)}\n",
      "------------------------------------\n",
      "{'0': (149, 303), '1': (141, 254), '2': (149, 182), '3': (173, 182), '4': (165, 254), '5': (165, 303), '6': (158, 182), '7': (157, 125), '8': (157, 117), '9': (157, 76), '10': (92, 149), '11': (117, 149), '12': (141, 125), '13': (182, 117), '14': (205, 141), '15': (206, 149)}\n",
      "------------------------------------\n",
      "{'0': (141, 303), '1': (133, 254), '2': (149, 190), '3': (173, 182), '4': (165, 254), '5': (157, 303), '6': (157, 182), '7': (157, 133), '8': (157, 117), '9': (157, 76), '11': (117, 149), '12': (133, 133), '13': (182, 125), '14': (190, 141), '15': (206, 165)}\n",
      "------------------------------------\n",
      "{'0': (141, 303), '1': (141, 238), '2': (149, 190), '3': (173, 182), '4': (165, 254), '5': (165, 303), '6': (157, 190), '7': (157, 133), '8': (157, 125), '9': (149, 76), '10': (93, 141), '11': (116, 149), '12': (133, 133), '13': (182, 133), '14': (198, 165), '15': (198, 166)}\n",
      "------------------------------------\n",
      "{'0': (133, 308), '1': (141, 246), '2': (149, 190), '3': (173, 198), '4': (165, 254), '5': (165, 303), '6': (157, 190), '7': (149, 133), '8': (149, 125), '9': (149, 84), '11': (108, 149), '12': (130, 133), '13': (173, 133), '14': (190, 157), '15': (198, 182)}\n",
      "------------------------------------\n",
      "{'0': (133, 310), '1': (141, 246), '2': (149, 190), '3': (173, 198), '4': (165, 254), '5': (165, 303), '6': (157, 190), '7': (149, 133), '8': (149, 125), '9': (149, 84), '10': (76, 133), '11': (109, 149), '12': (133, 133), '13': (173, 133), '15': (198, 191)}\n",
      "------------------------------------\n",
      "{'0': (133, 303), '1': (141, 254), '2': (141, 190), '3': (165, 182), '4': (165, 254), '5': (165, 303), '6': (149, 189), '7': (149, 133), '8': (149, 125), '9': (149, 76), '10': (76, 141), '11': (117, 149), '12': (133, 125), '13': (173, 133), '14': (182, 165), '15': (190, 190)}\n",
      "------------------------------------\n",
      "{'0': (133, 311), '1': (141, 254), '2': (141, 182), '3': (157, 182), '4': (157, 254), '5': (157, 303), '6': (149, 182), '7': (149, 125), '8': (149, 117), '9': (141, 76), '10': (93, 157), '11': (117, 149), '12': (133, 125), '13': (173, 125), '14': (182, 157), '15': (182, 182)}\n",
      "------------------------------------\n",
      "{'0': (173, 303), '1': (158, 246), '2': (189, 206), '4': (158, 246), '5': (214, 295), '6': (190, 206), '7': (173, 141), '8': (173, 141), '9': (173, 93), '10': (125, 151), '11': (141, 165), '12': (157, 141), '13': (190, 141), '14': (206, 174), '15': (222, 205)}\n",
      "------------------------------------\n",
      "{'0': (133, 311), '1': (133, 254), '2': (141, 182), '3': (157, 190), '4': (157, 250), '5': (157, 295), '6': (149, 190), '7': (150, 133), '8': (149, 117), '9': (141, 76), '10': (102, 166), '11': (125, 150), '12': (133, 133), '13': (173, 125), '14': (173, 158), '15': (173, 165)}\n",
      "------------------------------------\n",
      "{'0': (133, 311), '1': (133, 246), '2': (141, 190), '3': (157, 197), '4': (157, 254), '5': (149, 288), '6': (149, 190), '7': (149, 133), '8': (149, 117), '9': (141, 76), '10': (109, 197), '11': (117, 165), '12': (133, 141), '13': (173, 125), '14': (182, 173), '15': (181, 199)}\n",
      "------------------------------------\n",
      "{'0': (133, 311), '1': (133, 254), '2': (133, 198), '3': (149, 198), '4': (149, 246), '5': (149, 287), '6': (141, 198), '7': (149, 133), '8': (149, 125), '9': (141, 84), '10': (117, 206), '11': (125, 173), '12': (133, 141), '13': (173, 125), '14': (190, 157), '15': (182, 186)}\n",
      "------------------------------------\n",
      "{'0': (133, 311), '1': (133, 254), '2': (133, 198), '4': (149, 246), '5': (149, 287), '6': (141, 198), '7': (149, 134), '8': (149, 125), '9': (141, 84), '10': (117, 198), '11': (125, 173), '12': (133, 141), '13': (173, 125), '14': (198, 157), '15': (190, 182)}\n",
      "------------------------------------\n",
      "{'0': (133, 311), '1': (133, 254), '2': (141, 190), '3': (149, 190), '4': (147, 262), '6': (142, 190), '7': (149, 133), '8': (149, 125), '9': (141, 84), '10': (109, 190), '11': (125, 157), '12': (133, 141), '13': (165, 125), '14': (190, 141)}\n",
      "------------------------------------\n",
      "{'0': (133, 311), '1': (133, 254), '2': (134, 190), '3': (157, 188), '4': (149, 238), '5': (157, 271), '6': (149, 190), '7': (149, 133), '8': (149, 125), '9': (149, 84), '10': (101, 182), '11': (117, 157), '12': (133, 141), '13': (173, 133), '14': (190, 133), '15': (206, 141)}\n",
      "------------------------------------\n",
      "{'0': (133, 311), '1': (133, 254), '2': (133, 190), '3': (157, 182), '6': (149, 190), '7': (149, 133), '8': (149, 125), '9': (149, 76), '11': (117, 149), '12': (127, 141), '13': (173, 133), '14': (198, 133), '15': (222, 157)}\n",
      "------------------------------------\n",
      "{'0': (141, 311), '1': (135, 254), '2': (141, 190), '4': (157, 246), '5': (173, 271), '6': (149, 190), '7': (149, 133), '8': (149, 125), '9': (160, 76), '10': (84, 149), '11': (124, 141), '12': (125, 141), '13': (173, 125), '14': (198, 141), '15': (222, 142)}\n",
      "------------------------------------\n",
      "{'0': (141, 311), '1': (133, 254), '2': (141, 190), '3': (165, 190), '4': (165, 254), '6': (149, 190), '7': (149, 133), '8': (149, 126), '9': (165, 77), '10': (93, 133), '12': (126, 133), '13': (173, 125), '14': (190, 133), '15': (222, 125)}\n",
      "------------------------------------\n",
      "{'0': (141, 311), '1': (133, 246), '2': (149, 190), '3': (165, 190), '4': (165, 254), '5': (190, 295), '6': (157, 190), '7': (157, 133), '8': (157, 125), '9': (182, 92), '11': (190, 133), '13': (125, 133), '14': (101, 133), '15': (84, 117)}\n",
      "------------------------------------\n",
      "{'0': (173, 303), '1': (157, 246), '2': (182, 204), '3': (198, 190), '4': (206, 246), '5': (214, 298), '6': (190, 198), '7': (165, 141), '8': (165, 133), '9': (173, 93), '10': (133, 149), '11': (133, 150), '12': (149, 141), '13': (190, 146), '14': (198, 175)}\n",
      "------------------------------------\n",
      "{'0': (165, 303), '1': (157, 246), '2': (173, 206), '3': (198, 189), '4': (206, 246), '5': (214, 295), '6': (190, 190), '7': (165, 136), '8': (165, 125), '9': (173, 84), '10': (133, 141), '11': (133, 157), '12': (149, 133), '13': (190, 141), '14': (198, 173), '15': (216, 182)}\n",
      "------------------------------------\n",
      "{'0': (165, 295), '1': (157, 246), '2': (165, 190), '3': (190, 182), '4': (198, 246), '5': (206, 295), '6': (182, 187), '7': (165, 133), '8': (165, 125), '9': (173, 84), '10': (142, 157), '11': (134, 157), '12': (149, 125), '13': (190, 133), '14': (198, 157), '15': (221, 158)}\n",
      "------------------------------------\n",
      "{'0': (157, 303), '1': (157, 246), '2': (165, 182), '3': (190, 182), '4': (198, 243), '5': (198, 287), '6': (173, 182), '7': (165, 125), '8': (165, 117), '9': (165, 76), '11': (133, 157), '12': (141, 125), '13': (190, 125), '14': (198, 149), '15': (206, 149)}\n",
      "------------------------------------\n"
     ]
    },
    {
     "name": "stdout",
     "output_type": "stream",
     "text": [
      "{'0': (149, 295), '1': (157, 246), '2': (157, 182), '3': (182, 174), '4': (190, 238), '5': (190, 295), '6': (173, 182), '7': (165, 117), '8': (165, 117), '9': (165, 76), '10': (125, 190), '11': (133, 157), '12': (149, 117), '13': (182, 117), '14': (198, 140), '15': (214, 133)}\n",
      "------------------------------------\n",
      "{'0': (149, 303), '1': (157, 246), '2': (157, 182), '3': (182, 181), '4': (182, 246), '5': (182, 295), '6': (165, 182), '7': (165, 125), '8': (165, 117), '9': (165, 76), '10': (117, 190), '11': (125, 165), '12': (149, 125), '13': (187, 117), '14': (206, 125), '15': (213, 118)}\n",
      "------------------------------------\n",
      "{'0': (149, 303), '1': (157, 246), '2': (157, 182), '3': (173, 182), '4': (182, 246), '5': (173, 303), '6': (165, 182), '7': (165, 125), '8': (165, 117), '9': (165, 76), '10': (109, 182), '12': (141, 141), '13': (182, 117), '14': (198, 125), '15': (206, 125)}\n",
      "------------------------------------\n"
     ]
    }
   ],
   "source": [
    "limbSeq = [(9, 8), (8, 13), (8, 12), (8, 7), (12, 11), (11, 10), (13, 14), (14, 15), \\\n",
    "           (7, 6), (6, 3),  (3, 4),  (4, 5), (6, 2),   (2, 1),   (1, 0)]#16개 조인트, 15개 limb\n",
    "\n",
    "mapIdx = [(16, 17), (18, 19), (20, 21), (22, 23), (28, 29), (30, 31), (24, 25), (26, 27), (32, 33), \\\n",
    "          (34, 35), (38, 39), (40, 41), (36, 37), (42, 43), (44, 45)]#x, y vectormap Pairs 24,25\n",
    "\n",
    "colors = [[255, 0, 0], [255, 85, 0], [255, 170, 0], [255, 255, 0], [170, 255, 0], [85, 255, 0], [0, 255, 0], \\\n",
    "          [0, 255, 85], [0, 255, 170], [0, 255, 255], [0, 170, 255], [0, 85, 255], [0, 0, 255], [85, 0, 255], \\\n",
    "          [170, 0, 255], [255, 0, 255], [255, 0, 170], [255, 0, 85]]\n",
    "img_width = 356\n",
    "img_data_path = \"./video_with_abstacle/TrainingSet_2/test/label_image/\"\n",
    "img_list = os.listdir(img_data_path)\n",
    "img_filename_list = os.listdir(img_data_path)\n",
    "for i, img in enumerate(img_list):\n",
    "    img_list[i] = img_data_path + img\n",
    "with tf.Session() as sess:\n",
    "#with tf.Session(config=tf.ConfigProto(device_count={'GPU': 0})) as sess:\n",
    "    obj = openpose(batch_size=1, sess = sess)\n",
    "    sess.run(tf.global_variables_initializer())\n",
    "    SAVE_PATH = \"C:/Users/JAEKYU/Documents/Jupyter Notebook/Open_Pose/Weight/Weight.ckpt\"\n",
    "    saver = tf.train.Saver()\n",
    "    saver.restore(sess, SAVE_PATH)\n",
    "    for index, img in enumerate(img_list):\n",
    "        #cap = cv2.VideoCapture(0)\n",
    "        img_data = cv2.imread(img)\n",
    "        heatmap, vectormap = obj.demo_test([img_data])\n",
    "        heatmap = np.squeeze(heatmap)\n",
    "        vectormap = np.squeeze(vectormap)\n",
    "        resized_heatmap = np.zeros((17, 356, 356))\n",
    "        resized_vectormap = np.zeros((34, 356, 356))\n",
    "\n",
    "        heatmap = np.transpose(heatmap, (2,0, 1))\n",
    "        vectormap = np.transpose(vectormap, (2,0, 1))\n",
    "\n",
    "        for k in range(17):\n",
    "            resized_heatmap[k] = cv2.resize(heatmap[k], (356, 356))\n",
    "        for l in range(34):\n",
    "            resized_vectormap[l] = cv2.resize(vectormap[l], (356, 356))\n",
    "\n",
    "        resized_heatmap = np.transpose(resized_heatmap, (1,2, 0))\n",
    "        resized_vectormap = np.transpose(resized_vectormap, (1,2, 0))\n",
    "\n",
    "        #output, nms_joint = demo_view(img_color, resized_heatmap, resized_vectormap)\n",
    "        nms_joint = demo_view(img_data, resized_heatmap, resized_vectormap)\n",
    "        json_nms_joint = dict()\n",
    "        #print(img_filename_list[index])\n",
    "        with open(\"./video_with_abstacle/TrainingSet_2/test/img_anno/\" + img_filename_list[index][0:-4] + '.json', 'w') as f:\n",
    "            for j in range(16):\n",
    "                if(len(nms_joint[0][j]) == 0):\n",
    "                    pass\n",
    "                else:\n",
    "                    json_nms_joint['%d'%j] = nms_joint[0][j][0][0:2]\n",
    "            print(json_nms_joint)\n",
    "            dumped = json.dumps(json_nms_joint, cls=NumpyEncoder)\n",
    "\n",
    "            json.dump(dumped, f)\n",
    "            f.write('\\n')\n",
    "\n",
    "            json_nms_joint.clear()\n",
    "            print(\"------------------------------------\")\n",
    "        f.close()\n",
    "            "
   ]
  },
  {
   "cell_type": "code",
   "execution_count": 7,
   "metadata": {},
   "outputs": [
    {
     "data": {
      "text/plain": [
       "[[[(157, 301, 0.35670003294944763, 0)],\n",
       "  [(173, 254, 0.7234740853309631, 1)],\n",
       "  [(166, 197, 0.3185945451259613, 2)],\n",
       "  [(157, 190, 0.8932272791862488, 3)],\n",
       "  [(165, 254, 0.9302036762237549, 4)],\n",
       "  [(164, 295, 0.7939915657043457, 5)],\n",
       "  [(165, 190, 0.8248998522758484, 6)],\n",
       "  [(165, 140, 0.509909451007843, 7)],\n",
       "  [(165, 133, 0.7947704195976257, 8)],\n",
       "  [(159, 93, 0.5575931668281555, 9)],\n",
       "  [],\n",
       "  [(190, 141, 0.8400986790657043, 10)],\n",
       "  [(173, 125, 0.43527692556381226, 11), (165, 141, 0.3760838508605957, 12)],\n",
       "  [(149, 133, 0.5660061836242676, 13)],\n",
       "  [],\n",
       "  []]]"
      ]
     },
     "execution_count": 7,
     "metadata": {},
     "output_type": "execute_result"
    }
   ],
   "source": [
    "nms_joint"
   ]
  },
  {
   "cell_type": "code",
   "execution_count": 9,
   "metadata": {},
   "outputs": [],
   "source": [
    "str1 = ''.join(str(e) for e in nms_joint)"
   ]
  },
  {
   "cell_type": "code",
   "execution_count": 10,
   "metadata": {},
   "outputs": [
    {
     "data": {
      "text/plain": [
       "'[[(157, 301, 0.35670003294944763, 0)], [(173, 254, 0.7234740853309631, 1)], [(166, 197, 0.3185945451259613, 2)], [(157, 190, 0.8932272791862488, 3)], [(165, 254, 0.9302036762237549, 4)], [(164, 295, 0.7939915657043457, 5)], [(165, 190, 0.8248998522758484, 6)], [(165, 140, 0.509909451007843, 7)], [(165, 133, 0.7947704195976257, 8)], [(159, 93, 0.5575931668281555, 9)], [], [(190, 141, 0.8400986790657043, 10)], [(173, 125, 0.43527692556381226, 11), (165, 141, 0.3760838508605957, 12)], [(149, 133, 0.5660061836242676, 13)], [], []]'"
      ]
     },
     "execution_count": 10,
     "metadata": {},
     "output_type": "execute_result"
    }
   ],
   "source": [
    "str1"
   ]
  },
  {
   "cell_type": "code",
   "execution_count": null,
   "metadata": {},
   "outputs": [],
   "source": [
    "json_nms_joint = dict()\n",
    "with open('filename.json', 'w') as f:\n",
    "    for i in range(len(nms_joint)):\n",
    "        for j in range(16):\n",
    "            if(len(nms_joint[i][j]) == 0):\n",
    "                pass\n",
    "            else:\n",
    "                #print(j, nms_joint[i][j][0][0:2])\n",
    "                json_nms_joint['%d'%j] = nms_joint[i][j][0][0:2]\n",
    "        \n",
    "        print(json_nms_joint)\n",
    "        dumped = json.dumps(json_nms_joint, cls=NumpyEncoder)\n",
    "\n",
    "        json.dump(dumped, f)\n",
    "        f.write('\\n')\n",
    "\n",
    "        json_nms_joint.clear()\n",
    "        print(\"------------------------------------\")\n",
    "        \n",
    "    "
   ]
  },
  {
   "cell_type": "code",
   "execution_count": 102,
   "metadata": {},
   "outputs": [],
   "source": []
  },
  {
   "cell_type": "code",
   "execution_count": 3,
   "metadata": {},
   "outputs": [],
   "source": [
    "v_list = os.listdir(\"./video_with_abstacle/TrainingSet_2/video_another_30/\")"
   ]
  },
  {
   "cell_type": "code",
   "execution_count": 7,
   "metadata": {},
   "outputs": [],
   "source": [
    "for i, d in enumerate (v_list):\n",
    "    v_list[i] = \"./video_with_abstacle/TrainingSet_2/video_another_30/\" + d"
   ]
  },
  {
   "cell_type": "code",
   "execution_count": 16,
   "metadata": {},
   "outputs": [],
   "source": [
    "file_name = 0\n",
    "for index, data in enumerate (v_list):\n",
    "    cap = cv2.VideoCapture(data)\n",
    "    length = int(cap.get(cv2.CAP_PROP_FRAME_COUNT))\n",
    "    \n",
    "    for i in range(length):\n",
    "        ret, img = cap.read()\n",
    "        if(ret == True):\n",
    "            cv2.imwrite((\"./video_with_abstacle/TrainingSet_2/img_another_30/\" + \"%d\"%file_name + \".jpg\"), img)\n",
    "            file_name = file_name + 1\n",
    "        else:\n",
    "            continue\n",
    "        "
   ]
  },
  {
   "cell_type": "code",
   "execution_count": 119,
   "metadata": {},
   "outputs": [],
   "source": []
  },
  {
   "cell_type": "code",
   "execution_count": null,
   "metadata": {},
   "outputs": [],
   "source": []
  },
  {
   "cell_type": "code",
   "execution_count": null,
   "metadata": {},
   "outputs": [],
   "source": []
  },
  {
   "cell_type": "code",
   "execution_count": null,
   "metadata": {},
   "outputs": [],
   "source": []
  },
  {
   "cell_type": "code",
   "execution_count": null,
   "metadata": {},
   "outputs": [],
   "source": []
  },
  {
   "cell_type": "code",
   "execution_count": null,
   "metadata": {},
   "outputs": [],
   "source": []
  }
 ],
 "metadata": {
  "kernelspec": {
   "display_name": "Python 3",
   "language": "python",
   "name": "python3"
  },
  "language_info": {
   "codemirror_mode": {
    "name": "ipython",
    "version": 3
   },
   "file_extension": ".py",
   "mimetype": "text/x-python",
   "name": "python",
   "nbconvert_exporter": "python",
   "pygments_lexer": "ipython3",
   "version": "3.6.4"
  }
 },
 "nbformat": 4,
 "nbformat_minor": 2
}
