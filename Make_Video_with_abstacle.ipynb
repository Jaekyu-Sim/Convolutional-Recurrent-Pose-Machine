{
 "cells": [
  {
   "cell_type": "code",
   "execution_count": 1,
   "metadata": {},
   "outputs": [],
   "source": [
    "import cv2\n",
    "import os\n",
    "import time\n",
    "from PIL import Image, ImageDraw#, ImageFont\n",
    "import numpy as np\n",
    "import random\n",
    "import matplotlib.pyplot as plt"
   ]
  },
  {
   "cell_type": "code",
   "execution_count": 2,
   "metadata": {},
   "outputs": [
    {
     "name": "stdout",
     "output_type": "stream",
     "text": [
      "['./video_with_abstacle/video/1.mp4', './video_with_abstacle/video/10.mp4', './video_with_abstacle/video/11.mp4', './video_with_abstacle/video/12.mp4', './video_with_abstacle/video/13.mp4', './video_with_abstacle/video/14.mp4', './video_with_abstacle/video/15.mp4', './video_with_abstacle/video/16.mp4', './video_with_abstacle/video/17.mp4', './video_with_abstacle/video/18.mp4', './video_with_abstacle/video/19.mp4', './video_with_abstacle/video/2.mp4', './video_with_abstacle/video/20.mp4', './video_with_abstacle/video/21.mp4', './video_with_abstacle/video/3.mp4', './video_with_abstacle/video/4.mp4', './video_with_abstacle/video/5.mp4', './video_with_abstacle/video/6.mp4', './video_with_abstacle/video/7.mp4', './video_with_abstacle/video/8.mp4', './video_with_abstacle/video/9.mp4']\n",
      "150 150\n",
      "103 165\n"
     ]
    },
    {
     "ename": "KeyboardInterrupt",
     "evalue": "",
     "output_type": "error",
     "traceback": [
      "\u001b[1;31m---------------------------------------------------------------------------\u001b[0m",
      "\u001b[1;31mKeyboardInterrupt\u001b[0m                         Traceback (most recent call last)",
      "\u001b[1;32m<ipython-input-2-c38ff664a9d7>\u001b[0m in \u001b[0;36m<module>\u001b[1;34m()\u001b[0m\n\u001b[0;32m     52\u001b[0m             \u001b[0mtime\u001b[0m\u001b[1;33m.\u001b[0m\u001b[0msleep\u001b[0m\u001b[1;33m(\u001b[0m\u001b[1;36m0.0002\u001b[0m\u001b[1;33m)\u001b[0m\u001b[1;33m\u001b[0m\u001b[0m\n\u001b[0;32m     53\u001b[0m \u001b[1;33m\u001b[0m\u001b[0m\n\u001b[1;32m---> 54\u001b[1;33m             \u001b[1;32mif\u001b[0m \u001b[0mcv2\u001b[0m\u001b[1;33m.\u001b[0m\u001b[0mwaitKey\u001b[0m\u001b[1;33m(\u001b[0m\u001b[1;36m1\u001b[0m\u001b[1;33m)\u001b[0m \u001b[1;33m&\u001b[0m \u001b[1;36m0xFF\u001b[0m \u001b[1;33m==\u001b[0m \u001b[0mord\u001b[0m\u001b[1;33m(\u001b[0m\u001b[1;34m'q'\u001b[0m\u001b[1;33m)\u001b[0m\u001b[1;33m:\u001b[0m\u001b[1;33m\u001b[0m\u001b[0m\n\u001b[0m\u001b[0;32m     55\u001b[0m                 \u001b[1;32mbreak\u001b[0m\u001b[1;33m\u001b[0m\u001b[0m\n\u001b[0;32m     56\u001b[0m         \u001b[1;32melse\u001b[0m\u001b[1;33m:\u001b[0m\u001b[1;33m\u001b[0m\u001b[0m\n",
      "\u001b[1;31mKeyboardInterrupt\u001b[0m: "
     ]
    }
   ],
   "source": [
    "video_data_path = \"./video_with_abstacle/video/\"\n",
    "abstacle_image_path = \"./video_with_abstacle/image/\"\n",
    "save_path = \"./video_with_abstacle/video_abstacled/\"\n",
    "\n",
    "v_data_in_folder = os.listdir(video_data_path)\n",
    "i_data_in_folder = os.listdir(abstacle_image_path)\n",
    "resized_v_data_path = []\n",
    "\n",
    "for index, data in enumerate(v_data_in_folder):\n",
    "    v_data_in_folder[index] = video_data_path + data\n",
    "    resized_v_data_path.append(save_path + data)\n",
    "for index, data in enumerate(i_data_in_folder):\n",
    "    i_data_in_folder[index] = abstacle_image_path + data\n",
    "print(v_data_in_folder)\n",
    "for index, video_file in enumerate(v_data_in_folder):\n",
    "    fourcc = cv2.VideoWriter_fourcc(*'XVID')\n",
    "    out = cv2.VideoWriter(resized_v_data_path[index], fourcc, 20.0, (640, 360))\n",
    "    \n",
    "    cap = cv2.VideoCapture(v_data_in_folder[index])\n",
    "    img_data = cv2.imread(i_data_in_folder[index])\n",
    "    width_new = 150\n",
    "    \n",
    "    scale = img_data.shape[1]/width_new#100->동영상에 붙일 이미지 width 고정, img_data.shape[1] -> width\n",
    "    #img_data = cv2.resize(img_data, (100, int(img_data.shape[0]/scale)))\n",
    "    print(width_new, int(img_data.shape[0]/scale))\n",
    "    pos_img_data_x = random.randrange(1, 640-width_new)\n",
    "    pos_img_data_y = random.randrange(1, 360-int(img_data.shape[0]/scale))\n",
    "    print(pos_img_data_x, pos_img_data_y)\n",
    "    resized_img_data = cv2.resize(img_data, (width_new, int(img_data.shape[0]/scale)))\n",
    "    gray_img_data = cv2.cvtColor(resized_img_data, cv2.COLOR_RGB2GRAY)\n",
    "    ret, mask_inv = cv2.threshold(gray_img_data, 230, 255, cv2.THRESH_BINARY)\n",
    "    mask = cv2.bitwise_not(mask_inv)\n",
    "    \n",
    "    length = int(cap.get(cv2.CAP_PROP_FRAME_COUNT))\n",
    "    \n",
    "    for i in range(length):\n",
    "        ret, frame = cap.read()\n",
    "        if(ret == True):\n",
    "            frame2 = cv2.resize(frame, (640, 360))\n",
    "            cut_img = frame2[pos_img_data_y:pos_img_data_y + int(resized_img_data.shape[0]), pos_img_data_x:pos_img_data_x+width_new]\n",
    "\n",
    "            foreground = cv2.bitwise_and(resized_img_data, resized_img_data, mask = mask)\n",
    "            backgorund = cv2.bitwise_and(cut_img, cut_img, mask=mask_inv)\n",
    "            \n",
    "            image = cv2.add(backgorund, foreground)\n",
    "            frame2[pos_img_data_y:pos_img_data_y + int(resized_img_data.shape[0]), pos_img_data_x:pos_img_data_x+width_new] = image\n",
    "\n",
    "            out.write(frame2)\n",
    "            \n",
    "            cv2.imshow(\"cut_img\", cut_img)\n",
    "            cv2.imshow(\"video\", frame2)\n",
    "            time.sleep(0.0002)\n",
    "\n",
    "            if cv2.waitKey(1) & 0xFF == ord('q'):\n",
    "                break\n",
    "        else:\n",
    "            continue\n",
    "    \n",
    "    cap.release()\n",
    "    out.release()    \n",
    "    cv2.waitKey(0)\n",
    "    cv2.destroyAllWindows()\n",
    "    #break"
   ]
  },
  {
   "cell_type": "code",
   "execution_count": 92,
   "metadata": {},
   "outputs": [],
   "source": [
    "#v_data_in_folder\n",
    "#resized_v_data_path\n",
    "#pos_img_data_x = random.randrange(1, 540), pos_img_data_x"
   ]
  },
  {
   "cell_type": "code",
   "execution_count": 29,
   "metadata": {},
   "outputs": [],
   "source": [
    "video_path = \"./video_with_abstacle/TrainingSet_2/test/video/143.avi\"\n",
    "cap = cv2.VideoCapture(video_path)\n",
    "fourcc = cv2.VideoWriter_fourcc(*'XVID')\n",
    "out = cv2.VideoWriter(\"./video_with_abstacle/TrainingSet_2/test/video/left_elbow/360.avi\", fourcc, 20.0, (356, 356))\n",
    "length = int(cap.get(cv2.CAP_PROP_FRAME_COUNT))\n",
    "for i in range(length):\n",
    "    ret, img = cap.read()\n",
    "    if ret == True:\n",
    "        #if(i<15):\n",
    "            #out.write(img)\n",
    "        #else:\n",
    "        buffer = cv2.rectangle(img, (180, 150), (220, 190), (255, 255, 255), -1)\n",
    "        out.write(buffer)\n",
    "\n",
    "    else:\n",
    "        continue\n",
    "out.release()"
   ]
  },
  {
   "cell_type": "code",
   "execution_count": 16,
   "metadata": {},
   "outputs": [
    {
     "data": {
      "text/plain": [
       "['./video_with_abstacle/image/1.png',\n",
       " './video_with_abstacle/image/2.png',\n",
       " './video_with_abstacle/image/3.png',\n",
       " './video_with_abstacle/image/4.png',\n",
       " './video_with_abstacle/image/5.png',\n",
       " './video_with_abstacle/image/6.png']"
      ]
     },
     "execution_count": 16,
     "metadata": {},
     "output_type": "execute_result"
    }
   ],
   "source": [
    "cv2.rectangle(img, start, end, color, thickness)"
   ]
  },
  {
   "cell_type": "code",
   "execution_count": 9,
   "metadata": {},
   "outputs": [
    {
     "name": "stdout",
     "output_type": "stream",
     "text": [
      "472\n",
      "945\n"
     ]
    }
   ],
   "source": [
    "abstacle_image_path = \"./video_with_abstacle/image/2.png\"\n",
    "img_data = cv2.imread(abstacle_image_path)\n",
    "print(img_data.shape[0])#height\n",
    "print(img_data.shape[1])#width"
   ]
  },
  {
   "cell_type": "code",
   "execution_count": 57,
   "metadata": {},
   "outputs": [
    {
     "name": "stdout",
     "output_type": "stream",
     "text": [
      "[272]\n"
     ]
    }
   ],
   "source": [
    "img_data_x = np.random.choice(540, 1)\n",
    "print(img_data_x)"
   ]
  }
 ],
 "metadata": {
  "kernelspec": {
   "display_name": "Python 3",
   "language": "python",
   "name": "python3"
  },
  "language_info": {
   "codemirror_mode": {
    "name": "ipython",
    "version": 3
   },
   "file_extension": ".py",
   "mimetype": "text/x-python",
   "name": "python",
   "nbconvert_exporter": "python",
   "pygments_lexer": "ipython3",
   "version": "3.6.4"
  }
 },
 "nbformat": 4,
 "nbformat_minor": 2
}
