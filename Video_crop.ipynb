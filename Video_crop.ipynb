{
 "cells": [
  {
   "cell_type": "code",
   "execution_count": 1,
   "metadata": {},
   "outputs": [],
   "source": [
    "#video_crop"
   ]
  },
  {
   "cell_type": "code",
   "execution_count": 2,
   "metadata": {},
   "outputs": [],
   "source": [
    "import cv2\n",
    "import os\n",
    "import numpy as np\n",
    "import matplotlib.pyplot as plt\n",
    "import math\n",
    "import matplotlib"
   ]
  },
  {
   "cell_type": "code",
   "execution_count": 3,
   "metadata": {},
   "outputs": [],
   "source": [
    "img_width = 356\n",
    "video_data_path = \"./video_with_abstacle/TrainingSet_2/video_another/\"\n",
    "video_save_path = \"./video_with_abstacle/TrainingSet_2/video_another_crop/\"\n",
    "video_list = os.listdir(video_data_path)\n",
    "\n",
    "\n",
    "for i, video in enumerate(video_list):\n",
    "    video_list[i] = video_data_path + video"
   ]
  },
  {
   "cell_type": "code",
   "execution_count": 4,
   "metadata": {},
   "outputs": [
    {
     "data": {
      "text/plain": [
       "['./video_with_abstacle/TrainingSet_2/video_another/1.mp4',\n",
       " './video_with_abstacle/TrainingSet_2/video_another/10.mp4',\n",
       " './video_with_abstacle/TrainingSet_2/video_another/11.mp4',\n",
       " './video_with_abstacle/TrainingSet_2/video_another/12.mp4',\n",
       " './video_with_abstacle/TrainingSet_2/video_another/13.mp4',\n",
       " './video_with_abstacle/TrainingSet_2/video_another/14.mp4',\n",
       " './video_with_abstacle/TrainingSet_2/video_another/15.mp4',\n",
       " './video_with_abstacle/TrainingSet_2/video_another/16.mp4',\n",
       " './video_with_abstacle/TrainingSet_2/video_another/17.mp4',\n",
       " './video_with_abstacle/TrainingSet_2/video_another/18.mp4',\n",
       " './video_with_abstacle/TrainingSet_2/video_another/19.mp4',\n",
       " './video_with_abstacle/TrainingSet_2/video_another/2.mp4',\n",
       " './video_with_abstacle/TrainingSet_2/video_another/20.mp4',\n",
       " './video_with_abstacle/TrainingSet_2/video_another/21.mp4',\n",
       " './video_with_abstacle/TrainingSet_2/video_another/3.mp4',\n",
       " './video_with_abstacle/TrainingSet_2/video_another/4.mp4',\n",
       " './video_with_abstacle/TrainingSet_2/video_another/5.mp4',\n",
       " './video_with_abstacle/TrainingSet_2/video_another/6.mp4',\n",
       " './video_with_abstacle/TrainingSet_2/video_another/7.mp4',\n",
       " './video_with_abstacle/TrainingSet_2/video_another/8.mp4',\n",
       " './video_with_abstacle/TrainingSet_2/video_another/9.mp4']"
      ]
     },
     "execution_count": 4,
     "metadata": {},
     "output_type": "execute_result"
    }
   ],
   "source": [
    "video_list"
   ]
  },
  {
   "cell_type": "code",
   "execution_count": 5,
   "metadata": {},
   "outputs": [
    {
     "name": "stdout",
     "output_type": "stream",
     "text": [
      "./video_with_abstacle/TrainingSet_2/video_another/1.mp4\n",
      "./video_with_abstacle/TrainingSet_2/video_another/10.mp4\n",
      "./video_with_abstacle/TrainingSet_2/video_another/11.mp4\n",
      "./video_with_abstacle/TrainingSet_2/video_another/12.mp4\n",
      "./video_with_abstacle/TrainingSet_2/video_another/13.mp4\n",
      "./video_with_abstacle/TrainingSet_2/video_another/14.mp4\n",
      "./video_with_abstacle/TrainingSet_2/video_another/15.mp4\n",
      "./video_with_abstacle/TrainingSet_2/video_another/16.mp4\n",
      "./video_with_abstacle/TrainingSet_2/video_another/17.mp4\n",
      "./video_with_abstacle/TrainingSet_2/video_another/18.mp4\n",
      "./video_with_abstacle/TrainingSet_2/video_another/19.mp4\n",
      "./video_with_abstacle/TrainingSet_2/video_another/2.mp4\n",
      "./video_with_abstacle/TrainingSet_2/video_another/20.mp4\n",
      "./video_with_abstacle/TrainingSet_2/video_another/21.mp4\n",
      "./video_with_abstacle/TrainingSet_2/video_another/3.mp4\n",
      "./video_with_abstacle/TrainingSet_2/video_another/4.mp4\n",
      "./video_with_abstacle/TrainingSet_2/video_another/5.mp4\n",
      "./video_with_abstacle/TrainingSet_2/video_another/6.mp4\n",
      "./video_with_abstacle/TrainingSet_2/video_another/7.mp4\n",
      "./video_with_abstacle/TrainingSet_2/video_another/8.mp4\n",
      "./video_with_abstacle/TrainingSet_2/video_another/9.mp4\n"
     ]
    }
   ],
   "source": [
    "file_name = 0\n",
    "for index, video in enumerate(video_list):\n",
    "    #cap = cv2.VideoCapture(0)\n",
    "    print(video)\n",
    "    #print(index)\n",
    "    file_name = video.replace('./video_with_abstacle/TrainingSet_2/video_another/', \"\")\n",
    "    file_name = file_name.replace('.mp4', \"\")\n",
    "    cap = cv2.VideoCapture(video)\n",
    "    width = int(cap.get(3))\n",
    "    height = int(cap.get(4))\n",
    "    length = int(cap.get(cv2.CAP_PROP_FRAME_COUNT))\n",
    "\n",
    "    x_start = int((width - height) / 2)\n",
    "    x_end = int((width + height) / 2)\n",
    "    frame_data = []\n",
    "    fourcc = cv2.VideoWriter_fourcc(*'XVID')\n",
    "    out = cv2.VideoWriter(video_save_path + file_name + \".avi\", fourcc, 20.0, (356, 356))\n",
    "    for i in range(length):\n",
    "        ret, img_color = cap.read()\n",
    "        if(ret == True):\n",
    "            #cv2.imshow(\"crop_img\", img_color)qq\n",
    "            cropping = img_color[0:height, x_start:x_end, :]\n",
    "            cropping2 = cv2.resize(cropping, (356, 356))\n",
    "            \n",
    "            frame_data.append(cropping2)\n",
    "            cv2.imshow(\"crop_img\",cropping2)\n",
    "            if cv2.waitKey(1) & 0xFF == ord('q'):\n",
    "                break\n",
    "        else:\n",
    "            continue\n",
    "    #file_name = file_name + 1\n",
    "    for j in (frame_data):\n",
    "        out.write(j)\n",
    "    cap.release()\n",
    "    out.release()\n",
    "cv2.waitKey(0)\n",
    "cv2.destroyAllWindows()"
   ]
  },
  {
   "cell_type": "code",
   "execution_count": null,
   "metadata": {},
   "outputs": [],
   "source": []
  }
 ],
 "metadata": {
  "kernelspec": {
   "display_name": "Python 3",
   "language": "python",
   "name": "python3"
  },
  "language_info": {
   "codemirror_mode": {
    "name": "ipython",
    "version": 3
   },
   "file_extension": ".py",
   "mimetype": "text/x-python",
   "name": "python",
   "nbconvert_exporter": "python",
   "pygments_lexer": "ipython3",
   "version": "3.6.4"
  }
 },
 "nbformat": 4,
 "nbformat_minor": 2
}
